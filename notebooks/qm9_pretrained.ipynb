{
 "cells": [
  {
   "cell_type": "markdown",
   "metadata": {},
   "source": [
    "### Load QM9 model and predict"
   ]
  },
  {
   "cell_type": "code",
   "execution_count": 1,
   "metadata": {},
   "outputs": [],
   "source": [
    "from megnet.models import MEGNetModel\n",
    "import numpy as np\n",
    "from operator import itemgetter\n",
    "import json\n",
    "\n",
    "def get_graph_from_doc(doc):\n",
    "    \"\"\"\n",
    "    Convert a json document into a megnet graph\n",
    "    \"\"\"\n",
    "    atom = [i['atomic_num'] for i in doc['atoms']]\n",
    "\n",
    "    index1_temp = [i['a_idx'] for i in doc['atom_pairs']]\n",
    "    index2_temp = [i['b_idx'] for i in doc['atom_pairs']]\n",
    "    bond_temp = [i['spatial_distance'] for i in doc['atom_pairs']]\n",
    "\n",
    "    index1 = index1_temp + index2_temp\n",
    "    index2 = index2_temp + index1_temp\n",
    "    bond = bond_temp + bond_temp\n",
    "    sort_key = np.argsort(index1)\n",
    "    it = itemgetter(*sort_key)\n",
    "\n",
    "    index1 = it(index1)\n",
    "    index2 = it(index2)\n",
    "    bond = it(bond)\n",
    "    graph = {'atom': atom, 'bond': bond, 'index1': index1, 'index2': index2, 'state': [[0, 0]]}\n",
    "    return graph\n",
    "    \n",
    "# load an example qm9 document\n",
    "with open('../megnet/data/tests/qm9/000001.json', 'r') as f:\n",
    "    doc = json.load(f)\n",
    "# convert to a graph\n",
    "graph = get_graph_from_doc(doc)"
   ]
  },
  {
   "cell_type": "code",
   "execution_count": 2,
   "metadata": {},
   "outputs": [
    {
     "data": {
      "text/plain": [
       "{'atom': [6, 1, 1, 1, 1],\n",
       " 'bond': (1.0919181,\n",
       "  1.0919425,\n",
       "  1.0918945,\n",
       "  1.0919342,\n",
       "  1.7830887,\n",
       "  1.783101,\n",
       "  1.7831048,\n",
       "  1.0919181,\n",
       "  1.7831084,\n",
       "  1.7831007,\n",
       "  1.0919425,\n",
       "  1.7830887,\n",
       "  1.7831084,\n",
       "  1.783101,\n",
       "  1.7831069,\n",
       "  1.0918945,\n",
       "  1.7831048,\n",
       "  1.7831007,\n",
       "  1.0919342,\n",
       "  1.7831069),\n",
       " 'index1': (0, 0, 0, 0, 1, 1, 1, 1, 2, 2, 2, 2, 3, 3, 3, 3, 4, 4, 4, 4),\n",
       " 'index2': (1, 2, 3, 4, 2, 3, 4, 0, 3, 4, 0, 1, 2, 1, 4, 0, 1, 2, 0, 3),\n",
       " 'state': [[0, 0]]}"
      ]
     },
     "execution_count": 2,
     "metadata": {},
     "output_type": "execute_result"
    }
   ],
   "source": [
    "graph"
   ]
  },
  {
   "cell_type": "code",
   "execution_count": 2,
   "metadata": {},
   "outputs": [
    {
     "name": "stdout",
     "output_type": "stream",
     "text": [
      "*** Result Comparisons ***\n",
      "Target\tMEGNet\tQM9\n",
      "WARNING:tensorflow:From /Users/chenchi/miniconda3/lib/python3.7/site-packages/tensorflow/python/framework/op_def_library.py:263: colocate_with (from tensorflow.python.framework.ops) is deprecated and will be removed in a future version.\n",
      "Instructions for updating:\n",
      "Colocations handled automatically by placer.\n"
     ]
    },
    {
     "name": "stderr",
     "output_type": "stream",
     "text": [
      "WARNING:tensorflow:From /Users/chenchi/miniconda3/lib/python3.7/site-packages/tensorflow/python/framework/op_def_library.py:263: colocate_with (from tensorflow.python.framework.ops) is deprecated and will be removed in a future version.\n",
      "Instructions for updating:\n",
      "Colocations handled automatically by placer.\n"
     ]
    },
    {
     "name": "stdout",
     "output_type": "stream",
     "text": [
      "mu\t-0.008\t0.000\n",
      "alpha\t13.127\t13.210\n",
      "HOMO\t-10.557\t-10.550\n",
      "LUMO\t3.241\t3.186\n",
      "gap\t13.622\t13.736\n",
      "R2\t35.975\t35.364\n",
      "ZPVE\t1.215\t1.218\n",
      "U0\t-17.166\t-17.172\n",
      "U\t-17.353\t-17.286\n",
      "H\t-17.420\t-17.389\n",
      "G\t-16.107\t-16.152\n",
      "Cv\t6.427\t6.469\n",
      "omega1\t3151.626\t3151.708\n"
     ]
    }
   ],
   "source": [
    "# all target names\n",
    "names = ['mu', 'alpha', 'HOMO', 'LUMO', 'gap', 'R2', 'ZPVE', 'U0', 'U', 'H', 'G', 'Cv', 'omega1']\n",
    "\n",
    "\n",
    "y_pred = []\n",
    "y_true = []\n",
    "\n",
    "print('*** Result Comparisons ***')\n",
    "print('Target\\tMEGNet\\tQM9')\n",
    "\n",
    "for i in names:\n",
    "    model = MEGNetModel.from_file('../mvl_models/qm9-2018.6.1/' + i+'.hdf5')\n",
    "    pred = model.predict_graph(graph)\n",
    "    y_pred.append(pred)\n",
    "    y_true.append(doc['mol_info'][i])\n",
    "    print('%s\\t%.3f\\t%.3f' %(i, y_pred[-1], float(y_true[-1])))\n"
   ]
  },
  {
   "cell_type": "code",
   "execution_count": 6,
   "metadata": {},
   "outputs": [],
   "source": [
    "index1=[]\n",
    "index2=[]\n",
    "i=0\n",
    "atom_num=len(names['dic9'][\"Z\"])\n",
    "for i in range(atom_num):\n",
    "    j=0\n",
    "    while j < atom_num:\n",
    "        if i != j:\n",
    "            index1.append(i)\n",
    "            index2.append(j)\n",
    "        j+=1\n",
    "index1=tuple(index1)\n",
    "index2=tuple(index2)\n",
    "\n",
    "len_neibor=len(index1)\n",
    "bonds=[]\n",
    "for i in range(len_neibor):\n",
    "    bonds.append(spatial_dis(names['dic9'][\"Coordinate\"][index1[i]],names['dic9'][\"Coordinate\"][index2[i]]))\n",
    "bonds=tuple(map(float,bonds))"
   ]
  },
  {
   "cell_type": "code",
   "execution_count": 7,
   "metadata": {},
   "outputs": [],
   "source": [
    "graph={\"atom\":names[\"dic9\"][\"Z\"],'bond':bonds,'index1':index1,\"index2\":index2,'state': [[0, 0]]}\n",
    "\n"
   ]
  },
  {
   "cell_type": "code",
   "execution_count": 13,
   "metadata": {},
   "outputs": [],
   "source": [
    "from re import U\n",
    "import pandas as pd\n",
    "import numpy as np\n",
    "import time\n",
    "from glob import glob\n",
    "import torch\n",
    "def spatial_dis(a,b):\n",
    "    return torch.norm(torch.tensor(a)-torch.tensor(b))\n",
    "\n",
    "neighborlist = {}\n",
    "for _ in range(11,30,1):\n",
    "    neighborlist[str(_)]={}\n",
    "    neighborlist[str(_)][\"index1\"]=[]\n",
    "    neighborlist[str(_)][\"index2\"]=[]\n",
    "    i=0\n",
    "    for i in range(_):\n",
    "        j=0\n",
    "        while j < _:\n",
    "            if i != j:\n",
    "                neighborlist[str(_)][\"index1\"].append(i)\n",
    "                neighborlist[str(_)][\"index2\"].append(j)\n",
    "            j+=1\n",
    "    neighborlist[str(_)][\"index1\"]=tuple(neighborlist[str(_)][\"index1\"])\n",
    "    neighborlist[str(_)][\"index2\"]=tuple(neighborlist[str(_)][\"index2\"])\n",
    "\n",
    "graph_all={}\n",
    "id_list=[]\n",
    "path='/work/gp23/p23002/AI4Science_ICML/guyuhan/Alchemy/pyg/data-bin/raw/alchemy_data/Alchemy-v20191129/final_version.csv'\n",
    "df=pd.read_csv(path)                        #读入所有数据\n",
    "start=time.time()\n",
    "col_name = df.columns.values                #column name\n",
    "sort1 = col_name[1]                         #原子数目\n",
    "sort2 = col_name[0]                         #‘gdb_idx’\n",
    "df = df.sort_values(by=[sort1,sort2])       #对原子数以及序号进行排序\n",
    "data={}\n",
    "data[\"xyz\"]={}\n",
    "data[\"atom\"]={}\n",
    "names=locals()\n",
    "#names 中包含 df9～12 dic9～12 以及 dic 9～12 * （14+2）\n",
    "# for i in [9,10,11,12]:\n",
    "#这是一个循环用于处理整个的Alchemy中的重原子数为9～12的数据，如果只处理9的可以注释掉并开启下一行，并且下面的也要同步注释\n",
    "for i in [9]:\n",
    "    names['df'+str(i)]=df[df['atom number'].isin([i])]\n",
    "    names['dic'+str(i)]={}\n",
    "    #新定义的df9～12 以及 dic9～12\n",
    "    names['dic'+str(i)]['Z']=[]#Z是原子序数\n",
    "    names['dic'+str(i)]['Coordinate']=[]#坐标\n",
    "    names['dic'+str(i)][\"Contents\"]=[]\n",
    "    #Z 和 Coordinate 是很多维的数据，需要从XYZ文件中读取\n",
    "    #其他的一些属性是从csv文件中直接读取的\n",
    "    # for j in range(len(df.columns.values)):\n",
    "    #     names['dic'+str(i)][col_name[j].split('\\n')[0]]=[]\n",
    "\n",
    "search_table = {\"H\": 1, \"B\": 5, \"C\": 6, \"N\": 7, \"O\": 8, \"F\": 9, \"Si\": 14, \"P\": 15, \"S\": 16, \"Cl\": 17, \"Se\": 34, \"Br\": 35}\n",
    "# Z 中的转换表哥\n",
    "# direc='/work/gp23/p23002/AI4Science_ICML/guyuhan/Alchemy/pyg/data-bin/raw/alchemy_data/Alchemy-v20191129/atom_'\n",
    "# #这是xyz文件的地址\n",
    "# def sort_key(elem):\n",
    "#     return int(elem.replace(direc,'').replace('.xyz','').split('/')[1])\n",
    "# ev=27.211386245988\n",
    "# delta_U0_ref={'H':-0.500273,'C':-37.846772,'N':-54.583861,'O':-75.064579,'F':-99.718730}\n",
    "# delta_U_ref={'H':-0.498857,'C':-37.845355,'N':-54.582445,'O':-75.063163,'F':-99.717314}\n",
    "# delta_H_ref={'H':-0.497912,'C':-37.844411,'N':-54.581501,'O':-75.062219,'F':-99.716370}\n",
    "# delta_G_ref={'H':-0.510927,'C':-37.861317,'N':-54.598897,'O':-75.079532,'F':-99.733544}\n",
    "# for i in [9,10,11,12]:\n",
    "for i in [9]:\n",
    "    # names['xyz_filepath_list'+str(i)] = list(glob('/work/gp23/p23002/AI4Science_ICML/guyuhan/Alchemy/pyg/data-bin/raw/alchemy_data/Alchemy-v20191129/atom_'\n",
    "    #                                               +str(i)+'/*.xyz'))\n",
    "    # names['xyz_filepath_list'+str(i)].sort(key=sort_key)\n",
    "    names['delta_dic'+str(i)]={}\n",
    "    # preperty=['delta_U0','delta_U','delta_H','delta_G']\n",
    "    # for j in range(len(preperty)):\n",
    "    #     names['delta_dic'+str(i)][preperty[j]] = []\n",
    "    for k in range(len(names['df'+str(i)][col_name[0]])):\n",
    "        names['dic'+str(i)]['Z']=[]\n",
    "        names['dic'+str(i)][\"Coordinate\"]=[]\n",
    "    #下面这一句是用来测试的\n",
    "    # for k in range(1):\n",
    "        if k == 1000:\n",
    "            break\n",
    "        id = names['df'+str(i)][col_name[0]].iloc[k]\n",
    "        flag=True\n",
    "        with open('/work/gp23/p23002/AI4Science_ICML/guyuhan/Alchemy/pyg/data-bin/raw/alchemy_data/Alchemy-v20191129/atom_'\n",
    "                  +str(i)+'/'+str(id) + \".xyz\") as f:\n",
    "            contents = f.readlines()\n",
    "            \n",
    "            for lineID in range(2,len(contents)):\n",
    "                if contents[lineID].strip().split()[0] =='S' or contents[lineID].strip().split()[0] =='Cl':\n",
    "                    flag=False\n",
    "        if flag == True:\n",
    "            id_list.append(id)\n",
    "            with open('/work/gp23/p23002/AI4Science_ICML/guyuhan/Alchemy/pyg/data-bin/raw/alchemy_data/Alchemy-v20191129/atom_'\n",
    "                  +str(i)+'/'+str(id) + \".xyz\") as f:\n",
    "                contents = f.readlines()\n",
    "                # tempU0=0\n",
    "                # tempU=0\n",
    "                # tempH=0\n",
    "                # tempG=0\n",
    "                for lineID in range(2, len(contents)):\n",
    "                    names['dic'+str(i)][\"Z\"].append(search_table[contents[lineID].strip().split()[0]])\n",
    "                    names['dic'+str(i)][\"Coordinate\"].append(list(map(float, contents[lineID].strip().split()[1: ])))\n",
    "                \n",
    "            atom_number=(contents[0].strip())\n",
    "            index1=neighborlist[str(atom_number)]['index1']\n",
    "            index2=neighborlist[str(atom_number)]['index2']\n",
    "            bonds=[]\n",
    "            for m in range(len(index1)):\n",
    "                bonds.append(spatial_dis(names['dic'+str(i)][\"Coordinate\"][index1[m]],names['dic'+str(i)][\"Coordinate\"][index2[m]]))\n",
    "            bonds=tuple(map(float,bonds))\n",
    "            graph={\"atom\":names[\"dic\"+str(9)][\"Z\"],'bond':bonds,'index1':index1,\"index2\":index2,'state': [[0, 0]]}\n",
    "            graph_all[str(id)]=graph\n",
    "                    "
   ]
  },
  {
   "cell_type": "code",
   "execution_count": null,
   "metadata": {},
   "outputs": [],
   "source": [
    "targets = ['mu','HOMO']\n",
    "names=locals()\n",
    "\n",
    "\n",
    "y_pred = []\n",
    "y_true = []\n",
    "\n",
    "print('*** Result Comparisons ***')\n",
    "# print('Target\\tMEGNet\\tQM9')\n",
    "\n",
    "for target in targets:\n",
    "    names[target+\"pred\"]=[]\n",
    "    model = MEGNetModel.from_file('../mvl_models/qm9-2018.6.1/' + i+'.hdf5')\n",
    "    for id in id_list:\n",
    "        pred = model.predict_graph(graph_all[str(id)])\n",
    "        names[target+\"pred\"].append(pred)\n"
   ]
  },
  {
   "cell_type": "code",
   "execution_count": 19,
   "metadata": {},
   "outputs": [
    {
     "data": {
      "text/plain": [
       "[array([1.5266045], dtype=float32), array([1.1837761], dtype=float32)]"
      ]
     },
     "execution_count": 19,
     "metadata": {},
     "output_type": "execute_result"
    }
   ],
   "source": []
  },
  {
   "cell_type": "markdown",
   "metadata": {},
   "source": [
    "### Predict from SMILES"
   ]
  },
  {
   "cell_type": "code",
   "execution_count": 3,
   "metadata": {},
   "outputs": [],
   "source": [
    "from megnet.utils.molecule import get_pmg_mol_from_smiles\n",
    "\n",
    "MODEL_NAME = 'HOMO'\n",
    "\n",
    "model = MEGNetModel.from_file('../mvl_models/qm9-2018.6.1/%s.hdf5' % MODEL_NAME)"
   ]
  },
  {
   "cell_type": "code",
   "execution_count": 4,
   "metadata": {},
   "outputs": [
    {
     "data": {
      "text/plain": [
       "array([-10.557696], dtype=float32)"
      ]
     },
     "execution_count": 4,
     "metadata": {},
     "output_type": "execute_result"
    }
   ],
   "source": [
    "# The smiles of qm9:000001 is just C\n",
    "mol1 = get_pmg_mol_from_smiles('C')\n",
    "model.predict_structure(mol1)"
   ]
  },
  {
   "cell_type": "markdown",
   "metadata": {},
   "source": [
    "The result matches with previous results when we compute it from pre-computed graph"
   ]
  }
 ],
 "metadata": {
  "kernelspec": {
   "display_name": "Python 3.7.4 ('megnetwork')",
   "language": "python",
   "name": "python3"
  },
  "language_info": {
   "codemirror_mode": {
    "name": "ipython",
    "version": 3
   },
   "file_extension": ".py",
   "mimetype": "text/x-python",
   "name": "python",
   "nbconvert_exporter": "python",
   "pygments_lexer": "ipython3",
   "version": "3.7.4"
  },
  "vscode": {
   "interpreter": {
    "hash": "4a8e0e909b3c6de37122484336c3c53bf6bf4425a64c0805771da4be92a57951"
   }
  }
 },
 "nbformat": 4,
 "nbformat_minor": 2
}
